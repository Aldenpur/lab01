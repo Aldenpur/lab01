{
  "nbformat": 4,
  "nbformat_minor": 0,
  "metadata": {
    "colab": {
      "provenance": [],
      "authorship_tag": "ABX9TyNr7uOskEOQvqtfR2nnwqRJ"
    },
    "kernelspec": {
      "name": "python3",
      "display_name": "Python 3"
    },
    "language_info": {
      "name": "python"
    }
  },
  "cells": [
    {
      "cell_type": "code",
      "execution_count": 26,
      "metadata": {
        "id": "nUJeKyB4ARO2",
        "colab": {
          "base_uri": "https://localhost:8080/"
        },
        "outputId": "7fdf6a6a-bffc-4554-9183-ab5d73f1c45a"
      },
      "outputs": [
        {
          "output_type": "stream",
          "name": "stdout",
          "text": [
            "10 riejtvmc\n",
            "i dont know what to type anympre\n",
            "['a', 'b', 'c', 'd', 'e', 'f', 'g', 'h', 'i', 'j', 'k', 'l', 'm', 'n', 'o', 'p', 'q', 'r', 's', 't', 'u', 'v', 'w', 'x', 'y', 'z']\n",
            "['n', 'o', 'p', 'q', 's', 'u', 'w', 'x', 'y', 'z', 'r', 'i', 'e', 'j', 't', 'v', 'm', 'c', 'a', 'b', 'd', 'f', 'g', 'h', 'k', 'l']\n",
            "y qtjb rjtg gxnb bt bkvs njkevcs\n"
          ]
        }
      ],
      "source": [
        "import string\n",
        "from collections import Counter\n",
        "\n",
        "k = input().split()\n",
        "\n",
        "k[0] = int(k[0])\n",
        "k[1] = list(k[1])\n",
        "if max(Counter(k[1]).values()) != 1:\n",
        "  raise ValueError(\"В пароле не должно быть повторящихся букв\")\n",
        "\n",
        "text = input()\n",
        "\n",
        "encrd = []\n",
        "\n",
        "d = list(string.ascii_lowercase)\n",
        "out = d.copy()\n",
        "temp = d.copy()\n",
        "\n",
        "for i in range(len(k[1])):\n",
        "  out[k[0] + i] = k[1][i]\n",
        "  temp.remove(k[1][i])\n",
        "for s in range(26 - len(k[1])):\n",
        "  out[(k[0] + len(k[1]) + s)%26] = temp[s]\n",
        "\n",
        "print(d)\n",
        "print(out)\n",
        "\n",
        "def enc(text):\n",
        "  for c in text:\n",
        "    if c == ' ':\n",
        "      encrd.append(' ')\n",
        "      continue\n",
        "    for s in range(26):\n",
        "      if c == d[s]:\n",
        "        encrd.append(out[s])\n",
        "  return encrd\n",
        "\n",
        "print(''.join(map(str, enc(text))))\n"
      ]
    },
    {
      "cell_type": "code",
      "source": [
        "import string\n",
        "\n",
        "text = input()\n",
        "\n",
        "a = \"абвгдежзийклморпстуфхцчшщъыьэюя \"\n",
        "out = a[::-1]\n",
        "\n",
        "print(list(a))\n",
        "print(list(out))\n",
        "\n",
        "def atbash(text):\n",
        "  transl = str.maketrans(a, out)\n",
        "\n",
        "  return text.translate(transl)\n",
        "\n",
        "enc = atbash(text)\n",
        "\n",
        "print(text)\n",
        "print(enc)"
      ],
      "metadata": {
        "colab": {
          "base_uri": "https://localhost:8080/"
        },
        "id": "9bcuRraxP5QM",
        "outputId": "73c6db87-e079-43de-d87c-f9a9a7863914"
      },
      "execution_count": 27,
      "outputs": [
        {
          "output_type": "stream",
          "name": "stdout",
          "text": [
            "тест, тестируем один два три\n",
            "['а', 'б', 'в', 'г', 'д', 'е', 'ж', 'з', 'и', 'й', 'к', 'л', 'м', 'о', 'р', 'п', 'с', 'т', 'у', 'ф', 'х', 'ц', 'ч', 'ш', 'щ', 'ъ', 'ы', 'ь', 'э', 'ю', 'я', ' ']\n",
            "[' ', 'я', 'ю', 'э', 'ь', 'ы', 'ъ', 'щ', 'ш', 'ч', 'ц', 'х', 'ф', 'у', 'т', 'с', 'п', 'р', 'о', 'м', 'л', 'к', 'й', 'и', 'з', 'ж', 'е', 'д', 'г', 'в', 'б', 'а']\n",
            "тест, тестируем один два три\n",
            "рыпр,арыпрштоыфауьшнаью артш\n"
          ]
        }
      ]
    }
  ]
}